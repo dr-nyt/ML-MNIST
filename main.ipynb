{
 "cells": [
  {
   "cell_type": "code",
   "execution_count": 9,
   "metadata": {},
   "outputs": [],
   "source": [
    "import numpy as np\n",
    "import matplotlib.pyplot as plt\n",
    "\n",
    "import tensorflow.keras as keras\n",
    "from tensorflow.keras.datasets import mnist\n",
    "from tensorflow.keras.models import Sequential\n",
    "from tensorflow.keras.layers import Dense, Conv2D, MaxPool2D, Flatten, Dropout"
   ]
  },
  {
   "cell_type": "markdown",
   "metadata": {},
   "source": [
    "### Load dataset\n",
    "Loading the MNIST dataset of handwritten digits. The dataset is separated in two for training and testing."
   ]
  },
  {
   "cell_type": "code",
   "execution_count": 10,
   "metadata": {},
   "outputs": [],
   "source": [
    "# X     => input images\n",
    "# y     => output label\n",
    "# train => training dataset\n",
    "# test  => testing dataset, after training\n",
    "(X_train, y_train), (X_test, y_test) = mnist.load_data()"
   ]
  },
  {
   "cell_type": "code",
   "execution_count": 11,
   "metadata": {},
   "outputs": [
    {
     "name": "stdout",
     "output_type": "stream",
     "text": [
      "          images    image_size\n",
      "X_train   60000     28x28\n",
      "y_train   60000     \n",
      "X_test    10000     28x28\n",
      "y_test    10000     \n"
     ]
    }
   ],
   "source": [
    "# Show the dataset size and shape\n",
    "def dataset_shape():\n",
    "    print(\"\".ljust(9, \" \"), \"images\".ljust(9), \"image_size\")\n",
    "    print(\"X_train\".ljust(9, \" \"), str(X_train.shape[0]).ljust(9, \" \"), \"x\".join([str(_) for _ in X_train.shape[1:]]))\n",
    "    print(\"y_train\".ljust(9, \" \"), str(y_train.shape[0]).ljust(9, \" \"), \"x\".join([str(_) for _ in y_train.shape[1:]]))\n",
    "    print(\"X_test\".ljust(9, \" \"), str(X_test.shape[0]).ljust(9, \" \"), \"x\".join([str(_) for _ in X_test.shape[1:]]))\n",
    "    print(\"y_test\".ljust(9, \" \"), str(y_test.shape[0]).ljust(9, \" \"), \"x\".join([str(_) for _ in y_test.shape[1:]]))\n",
    "    \n",
    "dataset_shape()"
   ]
  },
  {
   "cell_type": "code",
   "execution_count": 12,
   "metadata": {},
   "outputs": [
    {
     "data": {
      "image/png": "[encoded data removed]",
      "text/plain": [
       "<Figure size 432x288 with 1 Axes>"
      ]
     },
     "metadata": {
      "needs_background": "light"
     },
     "output_type": "display_data"
    },
    {
     "data": {
      "image/png": "[encoded data removed]",
      "text/plain": [
       "<Figure size 432x288 with 1 Axes>"
      ]
     },
     "metadata": {
      "needs_background": "light"
     },
     "output_type": "display_data"
    },
    {
     "data": {
      "image/png": "[encoded data removed]",
      "text/plain": [
       "<Figure size 432x288 with 1 Axes>"
      ]
     },
     "metadata": {
      "needs_background": "light"
     },
     "output_type": "display_data"
    },
    {
     "data": {
      "image/png": "[encoded data removed]",
      "text/plain": [
       "<Figure size 432x288 with 1 Axes>"
      ]
     },
     "metadata": {
      "needs_background": "light"
     },
     "output_type": "display_data"
    },
    {
     "data": {
      "image/png": "[encoded data removed]",
      "text/plain": [
       "<Figure size 432x288 with 1 Axes>"
      ]
     },
     "metadata": {
      "needs_background": "light"
     },
     "output_type": "display_data"
    }
   ],
   "source": [
    "# Show the image from the training dataset at the given index\n",
    "def show_image_index(i):\n",
    "    plt.imshow(X_train[i], cmap=\"binary\")\n",
    "    plt.title(y_train[i])\n",
    "    plt.show()\n",
    "    \n",
    "show_image_index(0) # Show image at index 0 of the training dataset\n",
    "show_image_index(1) # Show image at index 0 of the training dataset\n",
    "show_image_index(2) # Show image at index 0 of the training dataset\n",
    "show_image_index(3) # Show image at index 0 of the training dataset\n",
    "show_image_index(4) # Show image at index 0 of the training dataset"
   ]
  },
  {
   "cell_type": "markdown",
   "metadata": {},
   "source": [
    "### Preprocessing"
   ]
  },
  {
   "cell_type": "code",
   "execution_count": 5,
   "metadata": {},
   "outputs": [
    {
     "data": {
      "image/png": "[encoded data removed]",
      "text/plain": [
       "<Figure size 432x288 with 1 Axes>"
      ]
     },
     "metadata": {
      "needs_background": "light"
     },
     "output_type": "display_data"
    }
   ],
   "source": [
    "# Normalize the input data color values from [0, 255] to [0.0, 1.0]\n",
    "X_train = keras.utils.normalize(X_train, axis=1)\n",
    "X_test = keras.utils.normalize(X_test, axis=1)\n",
    "\n",
    "show_image_index(0)"
   ]
  },
  {
   "cell_type": "code",
   "execution_count": 6,
   "metadata": {},
   "outputs": [
    {
     "name": "stdout",
     "output_type": "stream",
     "text": [
      "          images    image_size\n",
      "X_train   60000     28x28x1\n",
      "y_train   60000     \n",
      "X_test    10000     28x28x1\n",
      "y_test    10000     \n"
     ]
    }
   ],
   "source": [
    "# Reshape the input data to 3 dimensions for the training model\n",
    "X_train = np.expand_dims(X_train, -1)\n",
    "X_test = np.expand_dims(X_test, -1)\n",
    "\n",
    "dataset_shape()"
   ]
  },
  {
   "cell_type": "code",
   "execution_count": 7,
   "metadata": {},
   "outputs": [
    {
     "name": "stdout",
     "output_type": "stream",
     "text": [
      "[5 0 4 ... 5 6 8]\n",
      "[[0. 0. 0. ... 0. 0. 0.]\n",
      " [1. 0. 0. ... 0. 0. 0.]\n",
      " [0. 0. 0. ... 0. 0. 0.]\n",
      " ...\n",
      " [0. 0. 0. ... 0. 0. 0.]\n",
      " [0. 0. 0. ... 0. 0. 0.]\n",
      " [0. 0. 0. ... 0. 1. 0.]]\n",
      "          images    image_size\n",
      "X_train   60000     28x28x1\n",
      "y_train   60000     10\n",
      "X_test    10000     28x28x1\n",
      "y_test    10000     10\n"
     ]
    }
   ],
   "source": [
    "# Convert label classes to one hot vectors\n",
    "print(y_train)\n",
    "y_train = keras.utils.to_categorical(y_train)\n",
    "y_test = keras.utils.to_categorical(y_test)\n",
    "print(y_train)\n",
    "dataset_shape()"
   ]
  },
  {
   "cell_type": "markdown",
   "metadata": {},
   "source": [
    "### Model"
   ]
  },
  {
   "cell_type": "code",
   "execution_count": 10,
   "metadata": {},
   "outputs": [
    {
     "name": "stdout",
     "output_type": "stream",
     "text": [
      "Model: \"sequential\"\n",
      "_________________________________________________________________\n",
      " Layer (type)                Output Shape              Param #   \n",
      "=================================================================\n",
      " conv2d (Conv2D)             (None, 26, 26, 32)        320       \n",
      "                                                                 \n",
      " max_pooling2d (MaxPooling2D  (None, 13, 13, 32)       0         \n",
      " )                                                               \n",
      "                                                                 \n",
      " conv2d_1 (Conv2D)           (None, 11, 11, 64)        18496     \n",
      "                                                                 \n",
      " max_pooling2d_1 (MaxPooling  (None, 5, 5, 64)         0         \n",
      " 2D)                                                             \n",
      "                                                                 \n",
      " flatten (Flatten)           (None, 1600)              0         \n",
      "                                                                 \n",
      " dropout (Dropout)           (None, 1600)              0         \n",
      "                                                                 \n",
      " dense (Dense)               (None, 10)                16010     \n",
      "                                                                 \n",
      "=================================================================\n",
      "Total params: 34,826\n",
      "Trainable params: 34,826\n",
      "Non-trainable params: 0\n",
      "_________________________________________________________________\n"
     ]
    }
   ],
   "source": [
    "model = Sequential()                                                        # Sequential Model\n",
    "model.add(Conv2D(32, (3,3), input_shape=(28,28,1), activation=\"relu\"))      # Input layer\n",
    "\n",
    "model.add(MaxPool2D((2,2)))\n",
    "model.add(Conv2D(64, (3,3), activation=\"relu\"))\n",
    "model.add(MaxPool2D((2,2)))\n",
    "model.add(Flatten())\n",
    "model.add(Dropout(0.25))\n",
    "\n",
    "model.add(Dense(10, activation=\"softmax\"))                                  # Output layer\n",
    "\n",
    "model.summary()\n",
    "model.compile(optimizer=\"adam\", loss=keras.losses.categorical_crossentropy, metrics=[\"accuracy\"])"
   ]
  },
  {
   "cell_type": "code",
   "execution_count": 11,
   "metadata": {},
   "outputs": [],
   "source": [
    "# Callbacks\n",
    "from tensorflow.keras.callbacks import EarlyStopping, ModelCheckpoint\n",
    "\n",
    "# Early Stopping\n",
    "es = EarlyStopping(monitor=\"val_acc\", min_delta=0.01, patience=4, verbose=1)\n",
    "\n",
    "# Model Checkpoint\n",
    "mc = ModelCheckpoint(filepath=\"./bestmodel.h5\", monitor=\"val_acc\", verbose=1, save_best_only=True)\n",
    "\n",
    "# Packaged callbacks\n",
    "cb = [es, mc]"
   ]
  },
  {
   "cell_type": "markdown",
   "metadata": {},
   "source": [
    "### Model Training"
   ]
  },
  {
   "cell_type": "code",
   "execution_count": 12,
   "metadata": {},
   "outputs": [
    {
     "name": "stdout",
     "output_type": "stream",
     "text": [
      "Epoch 1/5\n",
      "1200/1313 [==========================>...] - ETA: 1s - loss: 0.2734 - accuracy: 0.9167"
     ]
    },
    {
     "ename": "KeyboardInterrupt",
     "evalue": "",
     "output_type": "error",
     "traceback": [
      "\u001b[1;31m---------------------------------------------------------------------------\u001b[0m",
      "\u001b[1;31mKeyboardInterrupt\u001b[0m                         Traceback (most recent call last)",
      "\u001b[1;32mb:\\Repos\\ML-MNIST\\main.ipynb Cell 14'\u001b[0m in \u001b[0;36m<cell line: 2>\u001b[1;34m()\u001b[0m\n\u001b[0;32m      <a href='vscode-notebook-cell:/b%3A/Repos/ML-MNIST/main.ipynb#ch0000013?line=0'>1</a>\u001b[0m \u001b[39m# Train model\u001b[39;00m\n\u001b[1;32m----> <a href='vscode-notebook-cell:/b%3A/Repos/ML-MNIST/main.ipynb#ch0000013?line=1'>2</a>\u001b[0m history \u001b[39m=\u001b[39m model\u001b[39m.\u001b[39;49mfit(X_train, y_train, epochs\u001b[39m=\u001b[39;49m\u001b[39m5\u001b[39;49m, validation_split\u001b[39m=\u001b[39;49m\u001b[39m0.3\u001b[39;49m, callbacks\u001b[39m=\u001b[39;49mcb)\n\u001b[0;32m      <a href='vscode-notebook-cell:/b%3A/Repos/ML-MNIST/main.ipynb#ch0000013?line=2'>3</a>\u001b[0m \u001b[39m# Save model\u001b[39;00m\n\u001b[0;32m      <a href='vscode-notebook-cell:/b%3A/Repos/ML-MNIST/main.ipynb#ch0000013?line=3'>4</a>\u001b[0m history\u001b[39m.\u001b[39mmodel\u001b[39m.\u001b[39msave(\u001b[39m\"\u001b[39m\u001b[39m./bestmodel.h5\u001b[39m\u001b[39m\"\u001b[39m)\n",
      "File \u001b[1;32m~\\AppData\\Local\\Programs\\Python\\Python310\\lib\\site-packages\\keras\\utils\\traceback_utils.py:64\u001b[0m, in \u001b[0;36mfilter_traceback.<locals>.error_handler\u001b[1;34m(*args, **kwargs)\u001b[0m\n\u001b[0;32m     <a href='file:///c%3A/Users/shehr/AppData/Local/Programs/Python/Python310/lib/site-packages/keras/utils/traceback_utils.py?line=61'>62</a>\u001b[0m filtered_tb \u001b[39m=\u001b[39m \u001b[39mNone\u001b[39;00m\n\u001b[0;32m     <a href='file:///c%3A/Users/shehr/AppData/Local/Programs/Python/Python310/lib/site-packages/keras/utils/traceback_utils.py?line=62'>63</a>\u001b[0m \u001b[39mtry\u001b[39;00m:\n\u001b[1;32m---> <a href='file:///c%3A/Users/shehr/AppData/Local/Programs/Python/Python310/lib/site-packages/keras/utils/traceback_utils.py?line=63'>64</a>\u001b[0m   \u001b[39mreturn\u001b[39;00m fn(\u001b[39m*\u001b[39margs, \u001b[39m*\u001b[39m\u001b[39m*\u001b[39mkwargs)\n\u001b[0;32m     <a href='file:///c%3A/Users/shehr/AppData/Local/Programs/Python/Python310/lib/site-packages/keras/utils/traceback_utils.py?line=64'>65</a>\u001b[0m \u001b[39mexcept\u001b[39;00m \u001b[39mException\u001b[39;00m \u001b[39mas\u001b[39;00m e:  \u001b[39m# pylint: disable=broad-except\u001b[39;00m\n\u001b[0;32m     <a href='file:///c%3A/Users/shehr/AppData/Local/Programs/Python/Python310/lib/site-packages/keras/utils/traceback_utils.py?line=65'>66</a>\u001b[0m   filtered_tb \u001b[39m=\u001b[39m _process_traceback_frames(e\u001b[39m.\u001b[39m__traceback__)\n",
      "File \u001b[1;32m~\\AppData\\Local\\Programs\\Python\\Python310\\lib\\site-packages\\keras\\engine\\training.py:1376\u001b[0m, in \u001b[0;36mModel.fit\u001b[1;34m(self, x, y, batch_size, epochs, verbose, callbacks, validation_split, validation_data, shuffle, class_weight, sample_weight, initial_epoch, steps_per_epoch, validation_steps, validation_batch_size, validation_freq, max_queue_size, workers, use_multiprocessing)\u001b[0m\n\u001b[0;32m   <a href='file:///c%3A/Users/shehr/AppData/Local/Programs/Python/Python310/lib/site-packages/keras/engine/training.py?line=1373'>1374</a>\u001b[0m callbacks\u001b[39m.\u001b[39mon_epoch_begin(epoch)\n\u001b[0;32m   <a href='file:///c%3A/Users/shehr/AppData/Local/Programs/Python/Python310/lib/site-packages/keras/engine/training.py?line=1374'>1375</a>\u001b[0m \u001b[39mwith\u001b[39;00m data_handler\u001b[39m.\u001b[39mcatch_stop_iteration():\n\u001b[1;32m-> <a href='file:///c%3A/Users/shehr/AppData/Local/Programs/Python/Python310/lib/site-packages/keras/engine/training.py?line=1375'>1376</a>\u001b[0m   \u001b[39mfor\u001b[39;00m step \u001b[39min\u001b[39;00m data_handler\u001b[39m.\u001b[39msteps():\n\u001b[0;32m   <a href='file:///c%3A/Users/shehr/AppData/Local/Programs/Python/Python310/lib/site-packages/keras/engine/training.py?line=1376'>1377</a>\u001b[0m     \u001b[39mwith\u001b[39;00m tf\u001b[39m.\u001b[39mprofiler\u001b[39m.\u001b[39mexperimental\u001b[39m.\u001b[39mTrace(\n\u001b[0;32m   <a href='file:///c%3A/Users/shehr/AppData/Local/Programs/Python/Python310/lib/site-packages/keras/engine/training.py?line=1377'>1378</a>\u001b[0m         \u001b[39m'\u001b[39m\u001b[39mtrain\u001b[39m\u001b[39m'\u001b[39m,\n\u001b[0;32m   <a href='file:///c%3A/Users/shehr/AppData/Local/Programs/Python/Python310/lib/site-packages/keras/engine/training.py?line=1378'>1379</a>\u001b[0m         epoch_num\u001b[39m=\u001b[39mepoch,\n\u001b[0;32m   <a href='file:///c%3A/Users/shehr/AppData/Local/Programs/Python/Python310/lib/site-packages/keras/engine/training.py?line=1379'>1380</a>\u001b[0m         step_num\u001b[39m=\u001b[39mstep,\n\u001b[0;32m   <a href='file:///c%3A/Users/shehr/AppData/Local/Programs/Python/Python310/lib/site-packages/keras/engine/training.py?line=1380'>1381</a>\u001b[0m         batch_size\u001b[39m=\u001b[39mbatch_size,\n\u001b[0;32m   <a href='file:///c%3A/Users/shehr/AppData/Local/Programs/Python/Python310/lib/site-packages/keras/engine/training.py?line=1381'>1382</a>\u001b[0m         _r\u001b[39m=\u001b[39m\u001b[39m1\u001b[39m):\n\u001b[0;32m   <a href='file:///c%3A/Users/shehr/AppData/Local/Programs/Python/Python310/lib/site-packages/keras/engine/training.py?line=1382'>1383</a>\u001b[0m       callbacks\u001b[39m.\u001b[39mon_train_batch_begin(step)\n",
      "File \u001b[1;32m~\\AppData\\Local\\Programs\\Python\\Python310\\lib\\site-packages\\keras\\engine\\data_adapter.py:1246\u001b[0m, in \u001b[0;36mDataHandler.steps\u001b[1;34m(self)\u001b[0m\n\u001b[0;32m   <a href='file:///c%3A/Users/shehr/AppData/Local/Programs/Python/Python310/lib/site-packages/keras/engine/data_adapter.py?line=1243'>1244</a>\u001b[0m \u001b[39mif\u001b[39;00m \u001b[39mself\u001b[39m\u001b[39m.\u001b[39m_insufficient_data:  \u001b[39m# Set by `catch_stop_iteration`.\u001b[39;00m\n\u001b[0;32m   <a href='file:///c%3A/Users/shehr/AppData/Local/Programs/Python/Python310/lib/site-packages/keras/engine/data_adapter.py?line=1244'>1245</a>\u001b[0m   \u001b[39mbreak\u001b[39;00m\n\u001b[1;32m-> <a href='file:///c%3A/Users/shehr/AppData/Local/Programs/Python/Python310/lib/site-packages/keras/engine/data_adapter.py?line=1245'>1246</a>\u001b[0m original_spe \u001b[39m=\u001b[39m \u001b[39mself\u001b[39;49m\u001b[39m.\u001b[39;49m_steps_per_execution\u001b[39m.\u001b[39;49mnumpy()\u001b[39m.\u001b[39mitem()\n\u001b[0;32m   <a href='file:///c%3A/Users/shehr/AppData/Local/Programs/Python/Python310/lib/site-packages/keras/engine/data_adapter.py?line=1246'>1247</a>\u001b[0m can_run_full_execution \u001b[39m=\u001b[39m (\n\u001b[0;32m   <a href='file:///c%3A/Users/shehr/AppData/Local/Programs/Python/Python310/lib/site-packages/keras/engine/data_adapter.py?line=1247'>1248</a>\u001b[0m     original_spe \u001b[39m==\u001b[39m \u001b[39m1\u001b[39m \u001b[39mor\u001b[39;00m\n\u001b[0;32m   <a href='file:///c%3A/Users/shehr/AppData/Local/Programs/Python/Python310/lib/site-packages/keras/engine/data_adapter.py?line=1248'>1249</a>\u001b[0m     \u001b[39mself\u001b[39m\u001b[39m.\u001b[39m_inferred_steps \u001b[39mis\u001b[39;00m \u001b[39mNone\u001b[39;00m \u001b[39mor\u001b[39;00m\n\u001b[0;32m   <a href='file:///c%3A/Users/shehr/AppData/Local/Programs/Python/Python310/lib/site-packages/keras/engine/data_adapter.py?line=1249'>1250</a>\u001b[0m     \u001b[39mself\u001b[39m\u001b[39m.\u001b[39m_inferred_steps \u001b[39m-\u001b[39m \u001b[39mself\u001b[39m\u001b[39m.\u001b[39m_current_step \u001b[39m>\u001b[39m\u001b[39m=\u001b[39m\n\u001b[0;32m   <a href='file:///c%3A/Users/shehr/AppData/Local/Programs/Python/Python310/lib/site-packages/keras/engine/data_adapter.py?line=1250'>1251</a>\u001b[0m     original_spe)\n\u001b[0;32m   <a href='file:///c%3A/Users/shehr/AppData/Local/Programs/Python/Python310/lib/site-packages/keras/engine/data_adapter.py?line=1252'>1253</a>\u001b[0m \u001b[39mif\u001b[39;00m can_run_full_execution:\n",
      "File \u001b[1;32m~\\AppData\\Local\\Programs\\Python\\Python310\\lib\\site-packages\\tensorflow\\python\\ops\\resource_variable_ops.py:674\u001b[0m, in \u001b[0;36mBaseResourceVariable.numpy\u001b[1;34m(self)\u001b[0m\n\u001b[0;32m    <a href='file:///c%3A/Users/shehr/AppData/Local/Programs/Python/Python310/lib/site-packages/tensorflow/python/ops/resource_variable_ops.py?line=671'>672</a>\u001b[0m \u001b[39mdef\u001b[39;00m \u001b[39mnumpy\u001b[39m(\u001b[39mself\u001b[39m):\n\u001b[0;32m    <a href='file:///c%3A/Users/shehr/AppData/Local/Programs/Python/Python310/lib/site-packages/tensorflow/python/ops/resource_variable_ops.py?line=672'>673</a>\u001b[0m   \u001b[39mif\u001b[39;00m context\u001b[39m.\u001b[39mexecuting_eagerly():\n\u001b[1;32m--> <a href='file:///c%3A/Users/shehr/AppData/Local/Programs/Python/Python310/lib/site-packages/tensorflow/python/ops/resource_variable_ops.py?line=673'>674</a>\u001b[0m     \u001b[39mreturn\u001b[39;00m \u001b[39mself\u001b[39;49m\u001b[39m.\u001b[39;49mread_value()\u001b[39m.\u001b[39mnumpy()\n\u001b[0;32m    <a href='file:///c%3A/Users/shehr/AppData/Local/Programs/Python/Python310/lib/site-packages/tensorflow/python/ops/resource_variable_ops.py?line=674'>675</a>\u001b[0m   \u001b[39mraise\u001b[39;00m \u001b[39mNotImplementedError\u001b[39;00m(\n\u001b[0;32m    <a href='file:///c%3A/Users/shehr/AppData/Local/Programs/Python/Python310/lib/site-packages/tensorflow/python/ops/resource_variable_ops.py?line=675'>676</a>\u001b[0m       \u001b[39m\"\u001b[39m\u001b[39mnumpy() is only available when eager execution is enabled.\u001b[39m\u001b[39m\"\u001b[39m)\n",
      "File \u001b[1;32m~\\AppData\\Local\\Programs\\Python\\Python310\\lib\\site-packages\\tensorflow\\python\\ops\\resource_variable_ops.py:749\u001b[0m, in \u001b[0;36mBaseResourceVariable.read_value\u001b[1;34m(self)\u001b[0m\n\u001b[0;32m    <a href='file:///c%3A/Users/shehr/AppData/Local/Programs/Python/Python310/lib/site-packages/tensorflow/python/ops/resource_variable_ops.py?line=739'>740</a>\u001b[0m \u001b[39m\"\"\"Constructs an op which reads the value of this variable.\u001b[39;00m\n\u001b[0;32m    <a href='file:///c%3A/Users/shehr/AppData/Local/Programs/Python/Python310/lib/site-packages/tensorflow/python/ops/resource_variable_ops.py?line=740'>741</a>\u001b[0m \n\u001b[0;32m    <a href='file:///c%3A/Users/shehr/AppData/Local/Programs/Python/Python310/lib/site-packages/tensorflow/python/ops/resource_variable_ops.py?line=741'>742</a>\u001b[0m \u001b[39mShould be used when there are multiple reads, or when it is desirable to\u001b[39;00m\n\u001b[1;32m   (...)\u001b[0m\n\u001b[0;32m    <a href='file:///c%3A/Users/shehr/AppData/Local/Programs/Python/Python310/lib/site-packages/tensorflow/python/ops/resource_variable_ops.py?line=745'>746</a>\u001b[0m \u001b[39m the read operation.\u001b[39;00m\n\u001b[0;32m    <a href='file:///c%3A/Users/shehr/AppData/Local/Programs/Python/Python310/lib/site-packages/tensorflow/python/ops/resource_variable_ops.py?line=746'>747</a>\u001b[0m \u001b[39m\"\"\"\u001b[39;00m\n\u001b[0;32m    <a href='file:///c%3A/Users/shehr/AppData/Local/Programs/Python/Python310/lib/site-packages/tensorflow/python/ops/resource_variable_ops.py?line=747'>748</a>\u001b[0m \u001b[39mwith\u001b[39;00m ops\u001b[39m.\u001b[39mname_scope(\u001b[39m\"\u001b[39m\u001b[39mRead\u001b[39m\u001b[39m\"\u001b[39m):\n\u001b[1;32m--> <a href='file:///c%3A/Users/shehr/AppData/Local/Programs/Python/Python310/lib/site-packages/tensorflow/python/ops/resource_variable_ops.py?line=748'>749</a>\u001b[0m   value \u001b[39m=\u001b[39m \u001b[39mself\u001b[39;49m\u001b[39m.\u001b[39;49m_read_variable_op()\n\u001b[0;32m    <a href='file:///c%3A/Users/shehr/AppData/Local/Programs/Python/Python310/lib/site-packages/tensorflow/python/ops/resource_variable_ops.py?line=749'>750</a>\u001b[0m \u001b[39m# Return an identity so it can get placed on whatever device the context\u001b[39;00m\n\u001b[0;32m    <a href='file:///c%3A/Users/shehr/AppData/Local/Programs/Python/Python310/lib/site-packages/tensorflow/python/ops/resource_variable_ops.py?line=750'>751</a>\u001b[0m \u001b[39m# specifies instead of the device where the variable is.\u001b[39;00m\n\u001b[0;32m    <a href='file:///c%3A/Users/shehr/AppData/Local/Programs/Python/Python310/lib/site-packages/tensorflow/python/ops/resource_variable_ops.py?line=751'>752</a>\u001b[0m \u001b[39mreturn\u001b[39;00m array_ops\u001b[39m.\u001b[39midentity(value)\n",
      "File \u001b[1;32m~\\AppData\\Local\\Programs\\Python\\Python310\\lib\\site-packages\\tensorflow\\python\\ops\\resource_variable_ops.py:728\u001b[0m, in \u001b[0;36mBaseResourceVariable._read_variable_op\u001b[1;34m(self)\u001b[0m\n\u001b[0;32m    <a href='file:///c%3A/Users/shehr/AppData/Local/Programs/Python/Python310/lib/site-packages/tensorflow/python/ops/resource_variable_ops.py?line=725'>726</a>\u001b[0m       result \u001b[39m=\u001b[39m read_and_set_handle()\n\u001b[0;32m    <a href='file:///c%3A/Users/shehr/AppData/Local/Programs/Python/Python310/lib/site-packages/tensorflow/python/ops/resource_variable_ops.py?line=726'>727</a>\u001b[0m \u001b[39melse\u001b[39;00m:\n\u001b[1;32m--> <a href='file:///c%3A/Users/shehr/AppData/Local/Programs/Python/Python310/lib/site-packages/tensorflow/python/ops/resource_variable_ops.py?line=727'>728</a>\u001b[0m   result \u001b[39m=\u001b[39m read_and_set_handle()\n\u001b[0;32m    <a href='file:///c%3A/Users/shehr/AppData/Local/Programs/Python/Python310/lib/site-packages/tensorflow/python/ops/resource_variable_ops.py?line=729'>730</a>\u001b[0m \u001b[39mif\u001b[39;00m \u001b[39mnot\u001b[39;00m context\u001b[39m.\u001b[39mexecuting_eagerly():\n\u001b[0;32m    <a href='file:///c%3A/Users/shehr/AppData/Local/Programs/Python/Python310/lib/site-packages/tensorflow/python/ops/resource_variable_ops.py?line=730'>731</a>\u001b[0m   \u001b[39m# Note that if a control flow context is active the input of the read op\u001b[39;00m\n\u001b[0;32m    <a href='file:///c%3A/Users/shehr/AppData/Local/Programs/Python/Python310/lib/site-packages/tensorflow/python/ops/resource_variable_ops.py?line=731'>732</a>\u001b[0m   \u001b[39m# might not actually be the handle. This line bypasses it.\u001b[39;00m\n\u001b[0;32m    <a href='file:///c%3A/Users/shehr/AppData/Local/Programs/Python/Python310/lib/site-packages/tensorflow/python/ops/resource_variable_ops.py?line=732'>733</a>\u001b[0m   tape\u001b[39m.\u001b[39mrecord_operation(\n\u001b[0;32m    <a href='file:///c%3A/Users/shehr/AppData/Local/Programs/Python/Python310/lib/site-packages/tensorflow/python/ops/resource_variable_ops.py?line=733'>734</a>\u001b[0m       \u001b[39m\"\u001b[39m\u001b[39mReadVariableOp\u001b[39m\u001b[39m\"\u001b[39m, [result], [\u001b[39mself\u001b[39m\u001b[39m.\u001b[39mhandle],\n\u001b[0;32m    <a href='file:///c%3A/Users/shehr/AppData/Local/Programs/Python/Python310/lib/site-packages/tensorflow/python/ops/resource_variable_ops.py?line=734'>735</a>\u001b[0m       backward_function\u001b[39m=\u001b[39m\u001b[39mlambda\u001b[39;00m x: [x],\n\u001b[0;32m    <a href='file:///c%3A/Users/shehr/AppData/Local/Programs/Python/Python310/lib/site-packages/tensorflow/python/ops/resource_variable_ops.py?line=735'>736</a>\u001b[0m       forward_function\u001b[39m=\u001b[39m\u001b[39mlambda\u001b[39;00m x: [x])\n",
      "File \u001b[1;32m~\\AppData\\Local\\Programs\\Python\\Python310\\lib\\site-packages\\tensorflow\\python\\ops\\resource_variable_ops.py:718\u001b[0m, in \u001b[0;36mBaseResourceVariable._read_variable_op.<locals>.read_and_set_handle\u001b[1;34m()\u001b[0m\n\u001b[0;32m    <a href='file:///c%3A/Users/shehr/AppData/Local/Programs/Python/Python310/lib/site-packages/tensorflow/python/ops/resource_variable_ops.py?line=716'>717</a>\u001b[0m \u001b[39mdef\u001b[39;00m \u001b[39mread_and_set_handle\u001b[39m():\n\u001b[1;32m--> <a href='file:///c%3A/Users/shehr/AppData/Local/Programs/Python/Python310/lib/site-packages/tensorflow/python/ops/resource_variable_ops.py?line=717'>718</a>\u001b[0m   result \u001b[39m=\u001b[39m gen_resource_variable_ops\u001b[39m.\u001b[39;49mread_variable_op(\n\u001b[0;32m    <a href='file:///c%3A/Users/shehr/AppData/Local/Programs/Python/Python310/lib/site-packages/tensorflow/python/ops/resource_variable_ops.py?line=718'>719</a>\u001b[0m       \u001b[39mself\u001b[39;49m\u001b[39m.\u001b[39;49mhandle, \u001b[39mself\u001b[39;49m\u001b[39m.\u001b[39;49m_dtype)\n\u001b[0;32m    <a href='file:///c%3A/Users/shehr/AppData/Local/Programs/Python/Python310/lib/site-packages/tensorflow/python/ops/resource_variable_ops.py?line=719'>720</a>\u001b[0m   _maybe_set_handle_data(\u001b[39mself\u001b[39m\u001b[39m.\u001b[39m_dtype, \u001b[39mself\u001b[39m\u001b[39m.\u001b[39mhandle, result)\n\u001b[0;32m    <a href='file:///c%3A/Users/shehr/AppData/Local/Programs/Python/Python310/lib/site-packages/tensorflow/python/ops/resource_variable_ops.py?line=720'>721</a>\u001b[0m   \u001b[39mreturn\u001b[39;00m result\n",
      "File \u001b[1;32m~\\AppData\\Local\\Programs\\Python\\Python310\\lib\\site-packages\\tensorflow\\python\\ops\\gen_resource_variable_ops.py:478\u001b[0m, in \u001b[0;36mread_variable_op\u001b[1;34m(resource, dtype, name)\u001b[0m\n\u001b[0;32m    <a href='file:///c%3A/Users/shehr/AppData/Local/Programs/Python/Python310/lib/site-packages/tensorflow/python/ops/gen_resource_variable_ops.py?line=475'>476</a>\u001b[0m \u001b[39mif\u001b[39;00m tld\u001b[39m.\u001b[39mis_eager:\n\u001b[0;32m    <a href='file:///c%3A/Users/shehr/AppData/Local/Programs/Python/Python310/lib/site-packages/tensorflow/python/ops/gen_resource_variable_ops.py?line=476'>477</a>\u001b[0m   \u001b[39mtry\u001b[39;00m:\n\u001b[1;32m--> <a href='file:///c%3A/Users/shehr/AppData/Local/Programs/Python/Python310/lib/site-packages/tensorflow/python/ops/gen_resource_variable_ops.py?line=477'>478</a>\u001b[0m     _result \u001b[39m=\u001b[39m pywrap_tfe\u001b[39m.\u001b[39;49mTFE_Py_FastPathExecute(\n\u001b[0;32m    <a href='file:///c%3A/Users/shehr/AppData/Local/Programs/Python/Python310/lib/site-packages/tensorflow/python/ops/gen_resource_variable_ops.py?line=478'>479</a>\u001b[0m       _ctx, \u001b[39m\"\u001b[39;49m\u001b[39mReadVariableOp\u001b[39;49m\u001b[39m\"\u001b[39;49m, name, resource, \u001b[39m\"\u001b[39;49m\u001b[39mdtype\u001b[39;49m\u001b[39m\"\u001b[39;49m, dtype)\n\u001b[0;32m    <a href='file:///c%3A/Users/shehr/AppData/Local/Programs/Python/Python310/lib/site-packages/tensorflow/python/ops/gen_resource_variable_ops.py?line=479'>480</a>\u001b[0m     \u001b[39mreturn\u001b[39;00m _result\n\u001b[0;32m    <a href='file:///c%3A/Users/shehr/AppData/Local/Programs/Python/Python310/lib/site-packages/tensorflow/python/ops/gen_resource_variable_ops.py?line=480'>481</a>\u001b[0m   \u001b[39mexcept\u001b[39;00m _core\u001b[39m.\u001b[39m_NotOkStatusException \u001b[39mas\u001b[39;00m e:\n",
      "\u001b[1;31mKeyboardInterrupt\u001b[0m: "
     ]
    }
   ],
   "source": [
    "# Train model\n",
    "history = model.fit(X_train, y_train, epochs=5, validation_split=0.3, callbacks=cb)\n",
    "# Save model\n",
    "history.model.save(\"./bestmodel.h5\")"
   ]
  },
  {
   "cell_type": "code",
   "execution_count": null,
   "metadata": {},
   "outputs": [
    {
     "name": "stdout",
     "output_type": "stream",
     "text": [
      "313/313 [==============================] - 1s 4ms/step - loss: 0.0458 - accuracy: 0.9860\n",
      "The model accuracy is 0.9860000014305115\n"
     ]
    }
   ],
   "source": [
    "model_saved = keras.models.load_model(\"./bestmodel.h5\")\n",
    "score = model_saved.evaluate(X_test, y_test)\n",
    "print(f\"The model accuracy is {score[1]}\")"
   ]
  }
 ],
 "metadata": {
  "interpreter": {
   "hash": "e71cffa25b3edb8353d6b2db95c5eb591e18978b9708e48778a80f566e697ec5"
  },
  "kernelspec": {
   "display_name": "Python 3.9.7 ('base')",
   "language": "python",
   "name": "python3"
  },
  "language_info": {
   "codemirror_mode": {
    "name": "ipython",
    "version": 3
   },
   "file_extension": ".py",
   "mimetype": "text/x-python",
   "name": "python",
   "nbconvert_exporter": "python",
   "pygments_lexer": "ipython3",
   "version": "3.10.3"
  },
  "orig_nbformat": 4
 },
 "nbformat": 4,
 "nbformat_minor": 2
}
