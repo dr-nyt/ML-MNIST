{
 "cells": [
  {
   "cell_type": "code",
   "execution_count": 106,
   "metadata": {},
   "outputs": [],
   "source": [
    "import numpy as np\n",
    "import matplotlib.pyplot as plt\n",
    "\n",
    "import tensorflow.keras as keras\n",
    "from tensorflow.keras.datasets import mnist\n",
    "from tensorflow.keras.models import Sequential\n",
    "from tensorflow.keras.layers import Dense, Conv2D, MaxPool2D, Flatten, Dropout"
   ]
  },
  {
   "cell_type": "markdown",
   "metadata": {},
   "source": [
    "### Load dataset\n",
    "Loading the MNIST dataset of handwritten digits. The dataset is separated in two for training and testing."
   ]
  },
  {
   "cell_type": "code",
   "execution_count": 99,
   "metadata": {},
   "outputs": [],
   "source": [
    "# X     => input images\n",
    "# y     => output label\n",
    "# train => training dataset\n",
    "# test  => testing dataset, after training\n",
    "(X_train, y_train), (X_test, y_test) = mnist.load_data()"
   ]
  },
  {
   "cell_type": "code",
   "execution_count": 100,
   "metadata": {},
   "outputs": [
    {
     "name": "stdout",
     "output_type": "stream",
     "text": [
      "          images    image_size\n",
      "X_train   60000     28x28\n",
      "y_train   60000     N/A (Label)\n",
      "X_test    10000     28x28\n",
      "y_test    10000     N/A (Label)\n"
     ]
    }
   ],
   "source": [
    "# Show the dataset size and shape\n",
    "def dataset_shape():\n",
    "    print(\"\".ljust(9, \" \"), \"images\".ljust(9), \"image_size\")\n",
    "    print(\"X_train\".ljust(9, \" \"), str(X_train.shape[0]).ljust(9, \" \"), \"x\".join([str(_) for _ in X_train.shape[1:]]))\n",
    "    print(\"y_train\".ljust(9, \" \"), str(y_train.shape[0]).ljust(9, \" \"), \"N/A (Label)\")\n",
    "    print(\"X_test\".ljust(9, \" \"), str(X_test.shape[0]).ljust(9, \" \"), \"x\".join([str(_) for _ in X_test.shape[1:]]))\n",
    "    print(\"y_test\".ljust(9, \" \"), str(y_test.shape[0]).ljust(9, \" \"), \"N/A (Label)\")\n",
    "    \n",
    "dataset_shape()"
   ]
  },
  {
   "cell_type": "code",
   "execution_count": 101,
   "metadata": {},
   "outputs": [
    {
     "data": {
      "image/png": "[encoded data removed]",
      "text/plain": [
       "<Figure size 432x288 with 1 Axes>"
      ]
     },
     "metadata": {
      "needs_background": "light"
     },
     "output_type": "display_data"
    }
   ],
   "source": [
    "# Show the image from the training dataset at the given index\n",
    "def show_image_index(i):\n",
    "    plt.imshow(X_train[i], cmap=\"binary\")\n",
    "    plt.title(y_train[i])\n",
    "    plt.show()\n",
    "    \n",
    "show_image_index(0) # Show image at index 0 of the training dataset"
   ]
  },
  {
   "cell_type": "markdown",
   "metadata": {},
   "source": [
    "### Preprocessing"
   ]
  },
  {
   "cell_type": "code",
   "execution_count": 104,
   "metadata": {},
   "outputs": [
    {
     "data": {
      "image/png": "[encoded data removed]",
      "text/plain": [
       "<Figure size 432x288 with 1 Axes>"
      ]
     },
     "metadata": {
      "needs_background": "light"
     },
     "output_type": "display_data"
    }
   ],
   "source": [
    "# Normalize the input data color values from [0, 255] to [0.0, 1.0]\n",
    "\n",
    "# X_train = X_train.astype(np.float32) / 255\n",
    "# X_test = X_test.astype(np.float32) / 255 \n",
    "\n",
    "X_train = keras.utils.normalize(X_train, axis=1)\n",
    "X_test = keras.utils.normalize(X_test, axis=1)\n",
    "\n",
    "show_image_index(0)"
   ]
  },
  {
   "cell_type": "code",
   "execution_count": 103,
   "metadata": {},
   "outputs": [
    {
     "name": "stdout",
     "output_type": "stream",
     "text": [
      "          images    image_size\n",
      "X_train   60000     28x28x1\n",
      "y_train   60000     N/A (Label)\n",
      "X_test    10000     28x28x1\n",
      "y_test    10000     N/A (Label)\n"
     ]
    }
   ],
   "source": [
    "# Reshape the input data to 3 dimensions for the training model\n",
    "X_train = np.expand_dims(X_train, -1)\n",
    "X_test = np.expand_dims(X_test, -1)\n",
    "\n",
    "dataset_shape()"
   ]
  },
  {
   "cell_type": "code",
   "execution_count": 105,
   "metadata": {},
   "outputs": [],
   "source": [
    "# Convert label classes to one hot vectors\n",
    "y_train = keras.utils.to_categorical(y_train)\n",
    "y_test = keras.utils.to_categorical(y_test)"
   ]
  },
  {
   "cell_type": "markdown",
   "metadata": {},
   "source": [
    "### Model"
   ]
  },
  {
   "cell_type": "code",
   "execution_count": 119,
   "metadata": {},
   "outputs": [
    {
     "name": "stdout",
     "output_type": "stream",
     "text": [
      "Model: \"sequential_6\"\n",
      "_________________________________________________________________\n",
      " Layer (type)                Output Shape              Param #   \n",
      "=================================================================\n",
      " conv2d_5 (Conv2D)           (None, 26, 26, 32)        320       \n",
      "                                                                 \n",
      " max_pooling2d_4 (MaxPooling  (None, 13, 13, 32)       0         \n",
      " 2D)                                                             \n",
      "                                                                 \n",
      " conv2d_6 (Conv2D)           (None, 11, 11, 64)        18496     \n",
      "                                                                 \n",
      " max_pooling2d_5 (MaxPooling  (None, 5, 5, 64)         0         \n",
      " 2D)                                                             \n",
      "                                                                 \n",
      " flatten_5 (Flatten)         (None, 1600)              0         \n",
      "                                                                 \n",
      " dropout_2 (Dropout)         (None, 1600)              0         \n",
      "                                                                 \n",
      " dense_11 (Dense)            (None, 10)                16010     \n",
      "                                                                 \n",
      "=================================================================\n",
      "Total params: 34,826\n",
      "Trainable params: 34,826\n",
      "Non-trainable params: 0\n",
      "_________________________________________________________________\n"
     ]
    }
   ],
   "source": [
    "model = Sequential()                                                        # Sequential Model\n",
    "model.add(Conv2D(32, (3,3), input_shape=(28,28,1), activation=\"relu\"))      # Input layer\n",
    "\n",
    "model.add(MaxPool2D((2,2)))\n",
    "model.add(Conv2D(64, (3,3), activation=\"relu\"))\n",
    "model.add(MaxPool2D((2,2)))\n",
    "model.add(Flatten())\n",
    "model.add(Dropout(0.25))\n",
    "\n",
    "model.add(Dense(10, activation=\"softmax\"))                                  # Output layer\n",
    "\n",
    "model.summary()\n",
    "model.compile(optimizer=\"adam\", loss=keras.losses.categorical_crossentropy, metrics=[\"accuracy\"])"
   ]
  },
  {
   "cell_type": "code",
   "execution_count": 126,
   "metadata": {},
   "outputs": [],
   "source": [
    "# Callbacks\n",
    "from tensorflow.keras.callbacks import EarlyStopping, ModelCheckpoint\n",
    "\n",
    "# Early Stopping\n",
    "es = EarlyStopping(monitor=\"val_acc\", min_delta=0.01, patience=4, verbose=1)\n",
    "\n",
    "# Model Checkpoint\n",
    "mc = ModelCheckpoint(filepath=\"./bestmodel.h5\", monitor=\"val_acc\", verbose=1, save_best_only=True)\n",
    "\n",
    "# Packaged callbacks\n",
    "cb = [es, mc]"
   ]
  },
  {
   "cell_type": "markdown",
   "metadata": {},
   "source": [
    "### Model Training"
   ]
  },
  {
   "cell_type": "code",
   "execution_count": 127,
   "metadata": {},
   "outputs": [
    {
     "name": "stdout",
     "output_type": "stream",
     "text": [
      "Epoch 1/5\n",
      "1313/1313 [==============================] - ETA: 0s - loss: 0.0342 - accuracy: 0.9888WARNING:tensorflow:Early stopping conditioned on metric `val_acc` which is not available. Available metrics are: loss,accuracy,val_loss,val_accuracy\n",
      "WARNING:tensorflow:Can save best model only with val_acc available, skipping.\n",
      "1313/1313 [==============================] - 16s 12ms/step - loss: 0.0342 - accuracy: 0.9888 - val_loss: 0.0428 - val_accuracy: 0.9871\n",
      "Epoch 2/5\n",
      "1309/1313 [============================>.] - ETA: 0s - loss: 0.0281 - accuracy: 0.9908WARNING:tensorflow:Early stopping conditioned on metric `val_acc` which is not available. Available metrics are: loss,accuracy,val_loss,val_accuracy\n",
      "WARNING:tensorflow:Can save best model only with val_acc available, skipping.\n",
      "1313/1313 [==============================] - 17s 13ms/step - loss: 0.0281 - accuracy: 0.9908 - val_loss: 0.0426 - val_accuracy: 0.9876\n",
      "Epoch 3/5\n",
      "1311/1313 [============================>.] - ETA: 0s - loss: 0.0260 - accuracy: 0.9911WARNING:tensorflow:Early stopping conditioned on metric `val_acc` which is not available. Available metrics are: loss,accuracy,val_loss,val_accuracy\n",
      "WARNING:tensorflow:Can save best model only with val_acc available, skipping.\n",
      "1313/1313 [==============================] - 16s 12ms/step - loss: 0.0262 - accuracy: 0.9910 - val_loss: 0.0532 - val_accuracy: 0.9853\n",
      "Epoch 4/5\n",
      "1313/1313 [==============================] - ETA: 0s - loss: 0.0245 - accuracy: 0.9918WARNING:tensorflow:Early stopping conditioned on metric `val_acc` which is not available. Available metrics are: loss,accuracy,val_loss,val_accuracy\n",
      "WARNING:tensorflow:Can save best model only with val_acc available, skipping.\n",
      "1313/1313 [==============================] - 17s 13ms/step - loss: 0.0245 - accuracy: 0.9918 - val_loss: 0.0445 - val_accuracy: 0.9873\n",
      "Epoch 5/5\n",
      "1310/1313 [============================>.] - ETA: 0s - loss: 0.0219 - accuracy: 0.9925WARNING:tensorflow:Early stopping conditioned on metric `val_acc` which is not available. Available metrics are: loss,accuracy,val_loss,val_accuracy\n",
      "WARNING:tensorflow:Can save best model only with val_acc available, skipping.\n",
      "1313/1313 [==============================] - 16s 12ms/step - loss: 0.0219 - accuracy: 0.9925 - val_loss: 0.0402 - val_accuracy: 0.9895\n"
     ]
    }
   ],
   "source": [
    "history = model.fit(X_train, y_train, epochs=5, validation_split=0.3, callbacks=cb)\n",
    "history.model.save(\"./bestmodel.h5\")"
   ]
  },
  {
   "cell_type": "code",
   "execution_count": 133,
   "metadata": {},
   "outputs": [
    {
     "name": "stdout",
     "output_type": "stream",
     "text": [
      "313/313 [==============================] - 1s 4ms/step - loss: 0.0341 - accuracy: 0.9901\n",
      "The model accuracy is 0.9901000261306763\n"
     ]
    }
   ],
   "source": [
    "model_saved = keras.models.load_model(\"./bestmodel.h5\")\n",
    "score = model_saved.evaluate(X_test, y_test)\n",
    "print(f\"The model accuracy is {score[1]}\")"
   ]
  }
 ],
 "metadata": {
  "interpreter": {
   "hash": "e71cffa25b3edb8353d6b2db95c5eb591e18978b9708e48778a80f566e697ec5"
  },
  "kernelspec": {
   "display_name": "Python 3.9.7 ('base')",
   "language": "python",
   "name": "python3"
  },
  "language_info": {
   "codemirror_mode": {
    "name": "ipython",
    "version": 3
   },
   "file_extension": ".py",
   "mimetype": "text/x-python",
   "name": "python",
   "nbconvert_exporter": "python",
   "pygments_lexer": "ipython3",
   "version": "3.10.3"
  },
  "orig_nbformat": 4
 },
 "nbformat": 4,
 "nbformat_minor": 2
}
